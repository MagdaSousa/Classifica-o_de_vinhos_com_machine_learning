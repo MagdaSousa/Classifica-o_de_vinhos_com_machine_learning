{
  "nbformat": 4,
  "nbformat_minor": 0,
  "metadata": {
    "kernelspec": {
      "display_name": "Python 3",
      "language": "python",
      "name": "python3"
    },
    "language_info": {
      "codemirror_mode": {
        "name": "ipython",
        "version": 3
      },
      "file_extension": ".py",
      "mimetype": "text/x-python",
      "name": "python",
      "nbconvert_exporter": "python",
      "pygments_lexer": "ipython3",
      "version": "3.7.6"
    },
    "colab": {
      "name": "classificador_de_vinhos_machine_learning.ipynb",
      "provenance": [],
      "include_colab_link": true
    }
  },
  "cells": [
    {
      "cell_type": "markdown",
      "metadata": {
        "id": "view-in-github",
        "colab_type": "text"
      },
      "source": [
        "<a href=\"https://colab.research.google.com/github/MagdaSousa/Classificacao_de_vinhos_com_machine_learning/blob/master/classificador_de_vinhos_machine_learning.ipynb\" target=\"_parent\"><img src=\"https://colab.research.google.com/assets/colab-badge.svg\" alt=\"Open In Colab\"/></a>"
      ]
    },
    {
      "cell_type": "markdown",
      "metadata": {
        "id": "_sviJImsUgmR",
        "colab_type": "text"
      },
      "source": [
        "**Meu primeiro código feito para criar um modelo para classificar vinhos.Exercício proposto para estudar bibliotecas de machine learning....**"
      ]
    },
    {
      "cell_type": "code",
      "metadata": {
        "id": "-4h_NRf9SnED",
        "colab_type": "code",
        "colab": {}
      },
      "source": [
        "import pandas as pd"
      ],
      "execution_count": 0,
      "outputs": []
    },
    {
      "cell_type": "code",
      "metadata": {
        "id": "LsuIEx8aSnEH",
        "colab_type": "code",
        "colab": {}
      },
      "source": [
        "dataset_vinhos=pd.read_csv('https://gist.githubusercontent.com/MagdaSousa/7ff9eed0d7dd95a5be57f967259f12a8/raw/59d7bac9aedf51cfe130bd963e21d2d34bdfed54/wine_dataset.csv')"
      ],
      "execution_count": 0,
      "outputs": []
    },
    {
      "cell_type": "markdown",
      "metadata": {
        "id": "pzHN8IeNUJJB",
        "colab_type": "text"
      },
      "source": [
        "**O trecho acima está acessando o dataset, que contem características que do vinhos que o classificam como vinho tinto ou branco.**"
      ]
    },
    {
      "cell_type": "code",
      "metadata": {
        "id": "TVMCD5sUSnEK",
        "colab_type": "code",
        "colab": {
          "base_uri": "https://localhost:8080/",
          "height": 222
        },
        "outputId": "ef8ddffb-92a5-4419-ec6b-5b204508f599"
      },
      "source": [
        "dataset_vinhos.head()"
      ],
      "execution_count": 3,
      "outputs": [
        {
          "output_type": "execute_result",
          "data": {
            "text/html": [
              "<div>\n",
              "<style scoped>\n",
              "    .dataframe tbody tr th:only-of-type {\n",
              "        vertical-align: middle;\n",
              "    }\n",
              "\n",
              "    .dataframe tbody tr th {\n",
              "        vertical-align: top;\n",
              "    }\n",
              "\n",
              "    .dataframe thead th {\n",
              "        text-align: right;\n",
              "    }\n",
              "</style>\n",
              "<table border=\"1\" class=\"dataframe\">\n",
              "  <thead>\n",
              "    <tr style=\"text-align: right;\">\n",
              "      <th></th>\n",
              "      <th>fixed_acidity</th>\n",
              "      <th>volatile_acidity</th>\n",
              "      <th>citric_acid</th>\n",
              "      <th>residual_sugar</th>\n",
              "      <th>chlorides</th>\n",
              "      <th>free_sulfur_dioxide</th>\n",
              "      <th>total_sulfur_dioxide</th>\n",
              "      <th>density</th>\n",
              "      <th>pH</th>\n",
              "      <th>sulphates</th>\n",
              "      <th>alcohol</th>\n",
              "      <th>quality</th>\n",
              "      <th>style</th>\n",
              "    </tr>\n",
              "  </thead>\n",
              "  <tbody>\n",
              "    <tr>\n",
              "      <th>0</th>\n",
              "      <td>7.4</td>\n",
              "      <td>0.70</td>\n",
              "      <td>0.00</td>\n",
              "      <td>1.9</td>\n",
              "      <td>0.076</td>\n",
              "      <td>11.0</td>\n",
              "      <td>34.0</td>\n",
              "      <td>0.9978</td>\n",
              "      <td>3.51</td>\n",
              "      <td>0.56</td>\n",
              "      <td>9.4</td>\n",
              "      <td>5</td>\n",
              "      <td>red</td>\n",
              "    </tr>\n",
              "    <tr>\n",
              "      <th>1</th>\n",
              "      <td>7.8</td>\n",
              "      <td>0.88</td>\n",
              "      <td>0.00</td>\n",
              "      <td>2.6</td>\n",
              "      <td>0.098</td>\n",
              "      <td>25.0</td>\n",
              "      <td>67.0</td>\n",
              "      <td>0.9968</td>\n",
              "      <td>3.20</td>\n",
              "      <td>0.68</td>\n",
              "      <td>9.8</td>\n",
              "      <td>5</td>\n",
              "      <td>red</td>\n",
              "    </tr>\n",
              "    <tr>\n",
              "      <th>2</th>\n",
              "      <td>7.8</td>\n",
              "      <td>0.76</td>\n",
              "      <td>0.04</td>\n",
              "      <td>2.3</td>\n",
              "      <td>0.092</td>\n",
              "      <td>15.0</td>\n",
              "      <td>54.0</td>\n",
              "      <td>0.9970</td>\n",
              "      <td>3.26</td>\n",
              "      <td>0.65</td>\n",
              "      <td>9.8</td>\n",
              "      <td>5</td>\n",
              "      <td>red</td>\n",
              "    </tr>\n",
              "    <tr>\n",
              "      <th>3</th>\n",
              "      <td>11.2</td>\n",
              "      <td>0.28</td>\n",
              "      <td>0.56</td>\n",
              "      <td>1.9</td>\n",
              "      <td>0.075</td>\n",
              "      <td>17.0</td>\n",
              "      <td>60.0</td>\n",
              "      <td>0.9980</td>\n",
              "      <td>3.16</td>\n",
              "      <td>0.58</td>\n",
              "      <td>9.8</td>\n",
              "      <td>6</td>\n",
              "      <td>red</td>\n",
              "    </tr>\n",
              "    <tr>\n",
              "      <th>4</th>\n",
              "      <td>7.4</td>\n",
              "      <td>0.70</td>\n",
              "      <td>0.00</td>\n",
              "      <td>1.9</td>\n",
              "      <td>0.076</td>\n",
              "      <td>11.0</td>\n",
              "      <td>34.0</td>\n",
              "      <td>0.9978</td>\n",
              "      <td>3.51</td>\n",
              "      <td>0.56</td>\n",
              "      <td>9.4</td>\n",
              "      <td>5</td>\n",
              "      <td>red</td>\n",
              "    </tr>\n",
              "  </tbody>\n",
              "</table>\n",
              "</div>"
            ],
            "text/plain": [
              "   fixed_acidity  volatile_acidity  citric_acid  ...  alcohol  quality  style\n",
              "0            7.4              0.70         0.00  ...      9.4        5    red\n",
              "1            7.8              0.88         0.00  ...      9.8        5    red\n",
              "2            7.8              0.76         0.04  ...      9.8        5    red\n",
              "3           11.2              0.28         0.56  ...      9.8        6    red\n",
              "4            7.4              0.70         0.00  ...      9.4        5    red\n",
              "\n",
              "[5 rows x 13 columns]"
            ]
          },
          "metadata": {
            "tags": []
          },
          "execution_count": 3
        }
      ]
    },
    {
      "cell_type": "markdown",
      "metadata": {
        "id": "gsAoH7SlWhBU",
        "colab_type": "text"
      },
      "source": [
        "**Agora com a função 'shape', vou verificar o tamanho do dataset,no caso 13 colunas e 6497 registros....**"
      ]
    },
    {
      "cell_type": "code",
      "metadata": {
        "id": "Ib480kusSnEN",
        "colab_type": "code",
        "colab": {
          "base_uri": "https://localhost:8080/",
          "height": 35
        },
        "outputId": "ea7e7395-6cc6-48de-ca02-3d242a800e95"
      },
      "source": [
        "dataset_vinhos.shape"
      ],
      "execution_count": 4,
      "outputs": [
        {
          "output_type": "execute_result",
          "data": {
            "text/plain": [
              "(6497, 13)"
            ]
          },
          "metadata": {
            "tags": []
          },
          "execution_count": 4
        }
      ]
    },
    {
      "cell_type": "code",
      "metadata": {
        "id": "mLYbZ4TUSnEQ",
        "colab_type": "code",
        "colab": {}
      },
      "source": [
        "dataset_vinhos['style'] =dataset_vinhos['style'].replace('red',0) \n",
        "dataset_vinhos['style'] =dataset_vinhos['style'].replace('white',1) \n",
        "#Agora estou pegando o dataset, e transformando os registros da variável 'style', por dados binárrios, pois a biblioteca que utilizarei vai\n",
        "#usá-los  para relacionar o '0' para vinhos vermelho(tinto) e '1' para vinho branco."
      ],
      "execution_count": 0,
      "outputs": []
    },
    {
      "cell_type": "code",
      "metadata": {
        "id": "IYapIrDeSnEU",
        "colab_type": "code",
        "colab": {}
      },
      "source": [
        "#separando as variáveis preditoras e as alvo\n",
        "y=dataset_vinhos['style']\n",
        "x=dataset_vinhos.drop('style',axis=1)\n",
        "#estou guardando na variável x o dataset sem a coluna 'style', pois posteriormente utilizarei esses dados para testar o modelo\n",
        "# para que ele verifica as características de cada vinho e 'diga', qual é tinto e qual é branco."
      ],
      "execution_count": 0,
      "outputs": []
    },
    {
      "cell_type": "code",
      "metadata": {
        "id": "HP21PaZkSnEW",
        "colab_type": "code",
        "colab": {
          "base_uri": "https://localhost:8080/",
          "height": 35
        },
        "outputId": "abd79640-208c-4d9f-adaa-2be5e9f7a348"
      },
      "source": [
        "x.shape\n",
        "#mostra em tela a quantidade dos dados"
      ],
      "execution_count": 7,
      "outputs": [
        {
          "output_type": "execute_result",
          "data": {
            "text/plain": [
              "(6497, 12)"
            ]
          },
          "metadata": {
            "tags": []
          },
          "execution_count": 7
        }
      ]
    },
    {
      "cell_type": "code",
      "metadata": {
        "id": "ExTZxJcVSnEY",
        "colab_type": "code",
        "colab": {
          "base_uri": "https://localhost:8080/",
          "height": 35
        },
        "outputId": "283ecf90-338c-49f2-f204-e2fcf9ed8aad"
      },
      "source": [
        "y.shape\n",
        "#mostra em tela a quantidade dos dados"
      ],
      "execution_count": 8,
      "outputs": [
        {
          "output_type": "execute_result",
          "data": {
            "text/plain": [
              "(6497,)"
            ]
          },
          "metadata": {
            "tags": []
          },
          "execution_count": 8
        }
      ]
    },
    {
      "cell_type": "code",
      "metadata": {
        "id": "fzf_3h_KSnEb",
        "colab_type": "code",
        "colab": {}
      },
      "source": [
        "from sklearn.model_selection import train_test_split\n",
        "# train_test_split => Dividir matriz em subconjuntos aleatórios de treino e teste"
      ],
      "execution_count": 0,
      "outputs": []
    },
    {
      "cell_type": "code",
      "metadata": {
        "id": "oP3P5dBGSnEd",
        "colab_type": "code",
        "colab": {}
      },
      "source": [
        "x_treino,x_teste,y_treino,y_teste = train_test_split(x,y,test_size =0.3)\n",
        "# o 0.3, quer dizer vc quer destinar 30% dos seus dados para teste"
      ],
      "execution_count": 0,
      "outputs": []
    },
    {
      "cell_type": "code",
      "metadata": {
        "id": "--7IcxGDSnEf",
        "colab_type": "code",
        "colab": {
          "base_uri": "https://localhost:8080/",
          "height": 35
        },
        "outputId": "7cfa2c6f-7bd1-4e72-b4df-c08aaa04052a"
      },
      "source": [
        "x_treino.shape\n",
        "#este dataframe está com 70% dos dados e será utilizado para treino do modelo"
      ],
      "execution_count": 11,
      "outputs": [
        {
          "output_type": "execute_result",
          "data": {
            "text/plain": [
              "(4547, 12)"
            ]
          },
          "metadata": {
            "tags": []
          },
          "execution_count": 11
        }
      ]
    },
    {
      "cell_type": "code",
      "metadata": {
        "id": "NB5E2_dbSnEh",
        "colab_type": "code",
        "colab": {
          "base_uri": "https://localhost:8080/",
          "height": 35
        },
        "outputId": "b5005d20-8e38-4d47-e177-056df3c14e8d"
      },
      "source": [
        "x_teste.shape\n",
        "# este dataframe está com 30% de todos os dados, e será utilizado para teste do modelo"
      ],
      "execution_count": 12,
      "outputs": [
        {
          "output_type": "execute_result",
          "data": {
            "text/plain": [
              "(1950, 12)"
            ]
          },
          "metadata": {
            "tags": []
          },
          "execution_count": 12
        }
      ]
    },
    {
      "cell_type": "code",
      "metadata": {
        "id": "2X5BssAfSnEk",
        "colab_type": "code",
        "colab": {
          "base_uri": "https://localhost:8080/",
          "height": 35
        },
        "outputId": "05843a32-c1da-401b-ddd2-4b4898b240c6"
      },
      "source": [
        "y_treino.shape\n",
        "#este dataframe está com 70% dos dados e será utilizado para treino do modelo"
      ],
      "execution_count": 13,
      "outputs": [
        {
          "output_type": "execute_result",
          "data": {
            "text/plain": [
              "(4547,)"
            ]
          },
          "metadata": {
            "tags": []
          },
          "execution_count": 13
        }
      ]
    },
    {
      "cell_type": "code",
      "metadata": {
        "id": "qac42jGlSnEm",
        "colab_type": "code",
        "colab": {
          "base_uri": "https://localhost:8080/",
          "height": 35
        },
        "outputId": "6b3cbe84-1727-47a3-f4b0-81dbfc230c39"
      },
      "source": [
        "y_teste.shape\n",
        "# este dataframe está com 30% de todos os dados, e será utilizado para teste do modelo"
      ],
      "execution_count": 14,
      "outputs": [
        {
          "output_type": "execute_result",
          "data": {
            "text/plain": [
              "(1950,)"
            ]
          },
          "metadata": {
            "tags": []
          },
          "execution_count": 14
        }
      ]
    },
    {
      "cell_type": "code",
      "metadata": {
        "id": "XG6jlB2eSnEo",
        "colab_type": "code",
        "colab": {}
      },
      "source": [
        "from sklearn.ensemble import ExtraTreesClassifier"
      ],
      "execution_count": 0,
      "outputs": []
    },
    {
      "cell_type": "code",
      "metadata": {
        "id": "L5jAIgvCSnEr",
        "colab_type": "code",
        "colab": {
          "base_uri": "https://localhost:8080/",
          "height": 35
        },
        "outputId": "57b180a5-3afc-47c8-ecbf-54770d017711"
      },
      "source": [
        "#criação do modelo\n",
        "modelo = ExtraTreesClassifier()\n",
        "# está função fit vai treinar o modelo, passando os dados x_treino, com as características, e o resultqado esperado y_treino, e ele \n",
        "# vai verificar a relação de cada dado, e fornecer um resultado com base  no que ele viu no treino\n",
        "modelo.fit(x_treino,y_treino)\n",
        "resultado= modelo.score(x_teste,y_teste)\n",
        "print(\"Acurácia:\",resultado)\n",
        "# é verificado que o resultado foi de  aproximadamente 99% de acerto"
      ],
      "execution_count": 16,
      "outputs": [
        {
          "output_type": "stream",
          "text": [
            "Acurácia: 0.9953846153846154\n"
          ],
          "name": "stdout"
        }
      ]
    },
    {
      "cell_type": "code",
      "metadata": {
        "id": "tAhnXrv2SnEt",
        "colab_type": "code",
        "colab": {
          "base_uri": "https://localhost:8080/",
          "height": 161
        },
        "outputId": "5710a38a-289d-4720-b797-ea51c4710784"
      },
      "source": [
        "x_teste[400:403]"
      ],
      "execution_count": 17,
      "outputs": [
        {
          "output_type": "execute_result",
          "data": {
            "text/html": [
              "<div>\n",
              "<style scoped>\n",
              "    .dataframe tbody tr th:only-of-type {\n",
              "        vertical-align: middle;\n",
              "    }\n",
              "\n",
              "    .dataframe tbody tr th {\n",
              "        vertical-align: top;\n",
              "    }\n",
              "\n",
              "    .dataframe thead th {\n",
              "        text-align: right;\n",
              "    }\n",
              "</style>\n",
              "<table border=\"1\" class=\"dataframe\">\n",
              "  <thead>\n",
              "    <tr style=\"text-align: right;\">\n",
              "      <th></th>\n",
              "      <th>fixed_acidity</th>\n",
              "      <th>volatile_acidity</th>\n",
              "      <th>citric_acid</th>\n",
              "      <th>residual_sugar</th>\n",
              "      <th>chlorides</th>\n",
              "      <th>free_sulfur_dioxide</th>\n",
              "      <th>total_sulfur_dioxide</th>\n",
              "      <th>density</th>\n",
              "      <th>pH</th>\n",
              "      <th>sulphates</th>\n",
              "      <th>alcohol</th>\n",
              "      <th>quality</th>\n",
              "    </tr>\n",
              "  </thead>\n",
              "  <tbody>\n",
              "    <tr>\n",
              "      <th>4365</th>\n",
              "      <td>6.9</td>\n",
              "      <td>0.16</td>\n",
              "      <td>0.37</td>\n",
              "      <td>1.8</td>\n",
              "      <td>0.034</td>\n",
              "      <td>36.0</td>\n",
              "      <td>95.0</td>\n",
              "      <td>0.98952</td>\n",
              "      <td>2.93</td>\n",
              "      <td>0.59</td>\n",
              "      <td>12.0</td>\n",
              "      <td>6</td>\n",
              "    </tr>\n",
              "    <tr>\n",
              "      <th>5470</th>\n",
              "      <td>6.5</td>\n",
              "      <td>0.27</td>\n",
              "      <td>0.19</td>\n",
              "      <td>6.6</td>\n",
              "      <td>0.045</td>\n",
              "      <td>98.0</td>\n",
              "      <td>175.0</td>\n",
              "      <td>0.99364</td>\n",
              "      <td>3.16</td>\n",
              "      <td>0.34</td>\n",
              "      <td>10.1</td>\n",
              "      <td>6</td>\n",
              "    </tr>\n",
              "    <tr>\n",
              "      <th>3413</th>\n",
              "      <td>8.2</td>\n",
              "      <td>0.42</td>\n",
              "      <td>0.29</td>\n",
              "      <td>4.1</td>\n",
              "      <td>0.030</td>\n",
              "      <td>31.0</td>\n",
              "      <td>100.0</td>\n",
              "      <td>0.99110</td>\n",
              "      <td>3.00</td>\n",
              "      <td>0.32</td>\n",
              "      <td>12.8</td>\n",
              "      <td>7</td>\n",
              "    </tr>\n",
              "  </tbody>\n",
              "</table>\n",
              "</div>"
            ],
            "text/plain": [
              "      fixed_acidity  volatile_acidity  citric_acid  ...  sulphates  alcohol  quality\n",
              "4365            6.9              0.16         0.37  ...       0.59     12.0        6\n",
              "5470            6.5              0.27         0.19  ...       0.34     10.1        6\n",
              "3413            8.2              0.42         0.29  ...       0.32     12.8        7\n",
              "\n",
              "[3 rows x 12 columns]"
            ]
          },
          "metadata": {
            "tags": []
          },
          "execution_count": 17
        }
      ]
    },
    {
      "cell_type": "code",
      "metadata": {
        "id": "wWeTe2fhSnEw",
        "colab_type": "code",
        "colab": {
          "base_uri": "https://localhost:8080/",
          "height": 87
        },
        "outputId": "d30dd4ec-e241-4f43-f361-603fad17fe9b"
      },
      "source": [
        "y_teste[400:403]\n",
        "#Aqui estou conferindo qual tipo de vinho pertencem os que possuem o código 4365,5470,3413. Os quais usarei para testar o modelo que treinei\n",
        "#anteriormente, mas utilizarei como teste , três vinhos contidos entre o intervalo de x_teste[400:403], que correspondem a três vinhos brancos.."
      ],
      "execution_count": 18,
      "outputs": [
        {
          "output_type": "execute_result",
          "data": {
            "text/plain": [
              "4365    1\n",
              "5470    1\n",
              "3413    1\n",
              "Name: style, dtype: int64"
            ]
          },
          "metadata": {
            "tags": []
          },
          "execution_count": 18
        }
      ]
    },
    {
      "cell_type": "code",
      "metadata": {
        "id": "UPnik3DmSnEz",
        "colab_type": "code",
        "colab": {}
      },
      "source": [
        "previsoes =modelo.predict(x_teste[400:403])\n",
        "#aqui estou passando para meu modelo, um trecho do dataset, para que diga se são tintos ou branco,\n",
        "# se o modelo estiver treinado  deve retornar o valor 1,1,1, que siginifica que todos os vinhos analisados eram do tipo branco"
      ],
      "execution_count": 0,
      "outputs": []
    },
    {
      "cell_type": "code",
      "metadata": {
        "id": "UuYJgsO4SnE0",
        "colab_type": "code",
        "colab": {
          "base_uri": "https://localhost:8080/",
          "height": 35
        },
        "outputId": "73b90c14-ec56-47f8-c3a5-6a5111f016b8"
      },
      "source": [
        "previsoes\n",
        "# Verifica-se que esses três registros de vinhos, ao passar pelo modelo treinada, retornou o resultado dizendo que os três são brancos,\n",
        "#de acordo com as caracteríscas, que ele analisou durante seu treino."
      ],
      "execution_count": 20,
      "outputs": [
        {
          "output_type": "execute_result",
          "data": {
            "text/plain": [
              "array([1, 1, 1])"
            ]
          },
          "metadata": {
            "tags": []
          },
          "execution_count": 20
        }
      ]
    },
    {
      "cell_type": "code",
      "metadata": {
        "id": "Lie_FIfHSnE2",
        "colab_type": "code",
        "colab": {}
      },
      "source": [
        ""
      ],
      "execution_count": 0,
      "outputs": []
    }
  ]
}